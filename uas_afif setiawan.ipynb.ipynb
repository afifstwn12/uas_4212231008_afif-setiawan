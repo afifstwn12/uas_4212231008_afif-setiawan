{
 "cells": [
  {
   "cell_type": "code",
   "execution_count": null,
   "metadata": {},
   "outputs": [],
   "source": [
    "import numpy as np\n",
    "from sklearn import datasets\n",
    "from sklearn.model_selection import train_test_split\n",
    "from sklearn.preprocessing import StandardScaler\n",
    "from sklearn.decomposition import PCA\n",
    "from sklearn.svm import SVC\n",
    "from sklearn.metrics import accuracy_score, confusion_matrix, precision_score\n",
    "from skimage.feature import hog\n",
    "from skimage import exposure\n",
    "\n",
    "# Load dataset MNIST\n",
    "digits = datasets.load_digits()\n",
    "\n",
    "# HOG Feature Extraction\n",
    "def extract_hog_features(images):\n",
    "    features = []\n",
    "    for image in images:\n",
    "        fd, hog_image = hog(image.reshape((8, 8)), orientations=8, pixels_per_cell=(2, 2), cells_per_block=(1, 1), visualize=True)\n",
    "        features.append(fd)\n",
    "    return np.array(features)\n",
    "\n",
    "# Split dataset\n",
    "X_train, X_test, y_train, y_test = train_test_split(digits.data, digits.target, test_size=0.2, random_state=42)\n",
    "\n",
    "# Feature extraction using HOG\n",
    "X_train_hog = extract_hog_features(X_train)\n",
    "X_test_hog = extract_hog_features(X_test)\n",
    "\n",
    "# Standardize features\n",
    "scaler = StandardScaler().fit(X_train_hog)\n",
    "X_train_hog = scaler.transform(X_train_hog)\n",
    "X_test_hog = scaler.transform(X_test_hog)\n",
    "\n",
    "# Train SVM\n",
    "svm_model = SVC(kernel='linear', C=1)\n",
    "svm_model.fit(X_train_hog, y_train)\n",
    "# Predict\n",
    "y_pred = svm_model.predict(X_test_hog)\n",
    "\n",
    "# Evaluate performance\n",
    "accuracy = accuracy_score(y_test, y_pred)\n",
    "conf_matrix = confusion_matrix(y_test, y_pred)\n",
    "precision = precision_score(y_test, y_pred, average='weighted')\n",
    "\n",
    "# Display results\n",
    "print(\"Accuracy:\", accuracy)\n",
    "print(\"Confusion Matrix:\\n\", conf_matrix)\n",
    "print(\"Precision:\", precision)"
   ]
  }
 ],
 "metadata": {
  "language_info": {
   "name": "python"
  }
 },
 "nbformat": 4,
 "nbformat_minor": 2
}
